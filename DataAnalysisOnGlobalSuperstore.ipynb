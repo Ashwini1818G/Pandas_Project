{
 "cells": [
  {
   "cell_type": "markdown",
   "id": "01c50e6e-21db-4f04-8308-bc19b9b2b03e",
   "metadata": {},
   "source": [
    "## Data analysis of Global superstore using python libraries"
   ]
  },
  {
   "cell_type": "markdown",
   "id": "0d3adb6d-f389-4088-b9fc-c06d2532174b",
   "metadata": {},
   "source": [
    "### Objectives:\n",
    "##### Analyze the Global Superstore dataset to uncover insights related to:\n",
    "##### Sales performance\n",
    "##### Profit trends\n",
    "##### Customer and product segments\n",
    "##### Regional performance\n",
    "##### Shipping trends\n",
    "\n"
   ]
  },
  {
   "cell_type": "markdown",
   "id": "69387fa8-9716-40b4-bed5-759cd9b11667",
   "metadata": {},
   "source": [
    "### Step 1: Import Libraries & Load Data"
   ]
  },
  {
   "cell_type": "code",
   "execution_count": 1,
   "id": "19e7540f-b23f-42ae-9f5e-e738a239a670",
   "metadata": {},
   "outputs": [],
   "source": [
    "import pandas as pd\n",
    "import matplotlib.pyplot as plt\n",
    "import seaborn as sns"
   ]
  },
  {
   "cell_type": "code",
   "execution_count": 6,
   "id": "d6038f74-6314-4a7f-ad48-dc32cb8b0119",
   "metadata": {},
   "outputs": [],
   "source": [
    "# load dataset\n",
    "df = pd.read_csv(\"Global Superstore.txt\", sep=\"\t\")"
   ]
  },
  {
   "cell_type": "code",
   "execution_count": 7,
   "id": "c3a1d64b-bae3-4b71-a168-b27f72e14bfe",
   "metadata": {},
   "outputs": [
    {
     "data": {
      "text/plain": [
       "(51290, 27)"
      ]
     },
     "execution_count": 7,
     "metadata": {},
     "output_type": "execute_result"
    }
   ],
   "source": [
    "df.shape"
   ]
  },
  {
   "cell_type": "markdown",
   "id": "44382dbd-e9e9-43e1-981c-ba0edf7fd783",
   "metadata": {},
   "source": [
    "### Step 2: Data Cleaning & Preprocessing\n",
    "🔹 Check for missing values, duplicates, and incorrect data types.\n",
    "\n"
   ]
  },
  {
   "cell_type": "code",
   "execution_count": 23,
   "id": "d2174e31-8939-42ad-9ba8-c28aa325eeb0",
   "metadata": {},
   "outputs": [
    {
     "data": {
      "text/html": [
       "<div>\n",
       "<style scoped>\n",
       "    .dataframe tbody tr th:only-of-type {\n",
       "        vertical-align: middle;\n",
       "    }\n",
       "\n",
       "    .dataframe tbody tr th {\n",
       "        vertical-align: top;\n",
       "    }\n",
       "\n",
       "    .dataframe thead th {\n",
       "        text-align: right;\n",
       "    }\n",
       "</style>\n",
       "<table border=\"1\" class=\"dataframe\">\n",
       "  <thead>\n",
       "    <tr style=\"text-align: right;\">\n",
       "      <th></th>\n",
       "      <th>Category</th>\n",
       "      <th>City</th>\n",
       "      <th>Country</th>\n",
       "      <th>Customer ID</th>\n",
       "      <th>Customer Name</th>\n",
       "      <th>Discount</th>\n",
       "      <th>Market</th>\n",
       "      <th>记录数</th>\n",
       "      <th>Order Date</th>\n",
       "      <th>Order ID</th>\n",
       "      <th>...</th>\n",
       "      <th>Sales</th>\n",
       "      <th>Segment</th>\n",
       "      <th>Ship Date</th>\n",
       "      <th>Ship Mode</th>\n",
       "      <th>Shipping Cost</th>\n",
       "      <th>State</th>\n",
       "      <th>Sub-Category</th>\n",
       "      <th>Year</th>\n",
       "      <th>Market2</th>\n",
       "      <th>weeknum</th>\n",
       "    </tr>\n",
       "  </thead>\n",
       "  <tbody>\n",
       "    <tr>\n",
       "      <th>0</th>\n",
       "      <td>Office Supplies</td>\n",
       "      <td>Los Angeles</td>\n",
       "      <td>United States</td>\n",
       "      <td>LS-172304</td>\n",
       "      <td>Lycoris Saunders</td>\n",
       "      <td>0.0</td>\n",
       "      <td>US</td>\n",
       "      <td>1</td>\n",
       "      <td>2011-01-07 00:00:00.000</td>\n",
       "      <td>CA-2011-130813</td>\n",
       "      <td>...</td>\n",
       "      <td>19</td>\n",
       "      <td>Consumer</td>\n",
       "      <td>2011-01-09 00:00:00.000</td>\n",
       "      <td>Second Class</td>\n",
       "      <td>4.37</td>\n",
       "      <td>California</td>\n",
       "      <td>Paper</td>\n",
       "      <td>2011</td>\n",
       "      <td>North America</td>\n",
       "      <td>2</td>\n",
       "    </tr>\n",
       "    <tr>\n",
       "      <th>1</th>\n",
       "      <td>Office Supplies</td>\n",
       "      <td>Los Angeles</td>\n",
       "      <td>United States</td>\n",
       "      <td>MV-174854</td>\n",
       "      <td>Mark Van Huff</td>\n",
       "      <td>0.0</td>\n",
       "      <td>US</td>\n",
       "      <td>1</td>\n",
       "      <td>2011-01-21 00:00:00.000</td>\n",
       "      <td>CA-2011-148614</td>\n",
       "      <td>...</td>\n",
       "      <td>19</td>\n",
       "      <td>Consumer</td>\n",
       "      <td>2011-01-26 00:00:00.000</td>\n",
       "      <td>Standard Class</td>\n",
       "      <td>0.94</td>\n",
       "      <td>California</td>\n",
       "      <td>Paper</td>\n",
       "      <td>2011</td>\n",
       "      <td>North America</td>\n",
       "      <td>4</td>\n",
       "    </tr>\n",
       "    <tr>\n",
       "      <th>2</th>\n",
       "      <td>Office Supplies</td>\n",
       "      <td>Los Angeles</td>\n",
       "      <td>United States</td>\n",
       "      <td>CS-121304</td>\n",
       "      <td>Chad Sievert</td>\n",
       "      <td>0.0</td>\n",
       "      <td>US</td>\n",
       "      <td>1</td>\n",
       "      <td>2011-08-05 00:00:00.000</td>\n",
       "      <td>CA-2011-118962</td>\n",
       "      <td>...</td>\n",
       "      <td>21</td>\n",
       "      <td>Consumer</td>\n",
       "      <td>2011-08-09 00:00:00.000</td>\n",
       "      <td>Standard Class</td>\n",
       "      <td>1.81</td>\n",
       "      <td>California</td>\n",
       "      <td>Paper</td>\n",
       "      <td>2011</td>\n",
       "      <td>North America</td>\n",
       "      <td>32</td>\n",
       "    </tr>\n",
       "    <tr>\n",
       "      <th>3</th>\n",
       "      <td>Office Supplies</td>\n",
       "      <td>Los Angeles</td>\n",
       "      <td>United States</td>\n",
       "      <td>CS-121304</td>\n",
       "      <td>Chad Sievert</td>\n",
       "      <td>0.0</td>\n",
       "      <td>US</td>\n",
       "      <td>1</td>\n",
       "      <td>2011-08-05 00:00:00.000</td>\n",
       "      <td>CA-2011-118962</td>\n",
       "      <td>...</td>\n",
       "      <td>111</td>\n",
       "      <td>Consumer</td>\n",
       "      <td>2011-08-09 00:00:00.000</td>\n",
       "      <td>Standard Class</td>\n",
       "      <td>4.59</td>\n",
       "      <td>California</td>\n",
       "      <td>Paper</td>\n",
       "      <td>2011</td>\n",
       "      <td>North America</td>\n",
       "      <td>32</td>\n",
       "    </tr>\n",
       "    <tr>\n",
       "      <th>4</th>\n",
       "      <td>Office Supplies</td>\n",
       "      <td>Los Angeles</td>\n",
       "      <td>United States</td>\n",
       "      <td>AP-109154</td>\n",
       "      <td>Arthur Prichep</td>\n",
       "      <td>0.0</td>\n",
       "      <td>US</td>\n",
       "      <td>1</td>\n",
       "      <td>2011-09-29 00:00:00.000</td>\n",
       "      <td>CA-2011-146969</td>\n",
       "      <td>...</td>\n",
       "      <td>6</td>\n",
       "      <td>Consumer</td>\n",
       "      <td>2011-10-03 00:00:00.000</td>\n",
       "      <td>Standard Class</td>\n",
       "      <td>1.32</td>\n",
       "      <td>California</td>\n",
       "      <td>Paper</td>\n",
       "      <td>2011</td>\n",
       "      <td>North America</td>\n",
       "      <td>40</td>\n",
       "    </tr>\n",
       "    <tr>\n",
       "      <th>5</th>\n",
       "      <td>Office Supplies</td>\n",
       "      <td>Los Angeles</td>\n",
       "      <td>United States</td>\n",
       "      <td>JF-154904</td>\n",
       "      <td>Jeremy Farry</td>\n",
       "      <td>0.0</td>\n",
       "      <td>US</td>\n",
       "      <td>1</td>\n",
       "      <td>2011-10-19 00:00:00.000</td>\n",
       "      <td>CA-2011-117317</td>\n",
       "      <td>...</td>\n",
       "      <td>13</td>\n",
       "      <td>Consumer</td>\n",
       "      <td>2011-10-19 00:00:00.000</td>\n",
       "      <td>Same Day</td>\n",
       "      <td>2.39</td>\n",
       "      <td>California</td>\n",
       "      <td>Paper</td>\n",
       "      <td>2011</td>\n",
       "      <td>North America</td>\n",
       "      <td>43</td>\n",
       "    </tr>\n",
       "    <tr>\n",
       "      <th>6</th>\n",
       "      <td>Office Supplies</td>\n",
       "      <td>Los Angeles</td>\n",
       "      <td>United States</td>\n",
       "      <td>WB-218504</td>\n",
       "      <td>William Brown</td>\n",
       "      <td>0.0</td>\n",
       "      <td>US</td>\n",
       "      <td>1</td>\n",
       "      <td>2011-11-04 00:00:00.000</td>\n",
       "      <td>CA-2011-125829</td>\n",
       "      <td>...</td>\n",
       "      <td>19</td>\n",
       "      <td>Consumer</td>\n",
       "      <td>2011-11-11 00:00:00.000</td>\n",
       "      <td>Standard Class</td>\n",
       "      <td>1.15</td>\n",
       "      <td>California</td>\n",
       "      <td>Paper</td>\n",
       "      <td>2011</td>\n",
       "      <td>North America</td>\n",
       "      <td>45</td>\n",
       "    </tr>\n",
       "    <tr>\n",
       "      <th>7</th>\n",
       "      <td>Office Supplies</td>\n",
       "      <td>Los Angeles</td>\n",
       "      <td>United States</td>\n",
       "      <td>JA-159704</td>\n",
       "      <td>Joseph Airdo</td>\n",
       "      <td>0.0</td>\n",
       "      <td>US</td>\n",
       "      <td>1</td>\n",
       "      <td>2011-11-12 00:00:00.000</td>\n",
       "      <td>CA-2011-151295</td>\n",
       "      <td>...</td>\n",
       "      <td>12</td>\n",
       "      <td>Consumer</td>\n",
       "      <td>2011-11-16 00:00:00.000</td>\n",
       "      <td>Standard Class</td>\n",
       "      <td>0.92</td>\n",
       "      <td>California</td>\n",
       "      <td>Paper</td>\n",
       "      <td>2011</td>\n",
       "      <td>North America</td>\n",
       "      <td>46</td>\n",
       "    </tr>\n",
       "    <tr>\n",
       "      <th>8</th>\n",
       "      <td>Office Supplies</td>\n",
       "      <td>Los Angeles</td>\n",
       "      <td>United States</td>\n",
       "      <td>SP-209204</td>\n",
       "      <td>Susan Pistek</td>\n",
       "      <td>0.0</td>\n",
       "      <td>US</td>\n",
       "      <td>1</td>\n",
       "      <td>2011-11-22 00:00:00.000</td>\n",
       "      <td>CA-2011-135090</td>\n",
       "      <td>...</td>\n",
       "      <td>54</td>\n",
       "      <td>Consumer</td>\n",
       "      <td>2011-11-26 00:00:00.000</td>\n",
       "      <td>Standard Class</td>\n",
       "      <td>6.98</td>\n",
       "      <td>California</td>\n",
       "      <td>Paper</td>\n",
       "      <td>2011</td>\n",
       "      <td>North America</td>\n",
       "      <td>48</td>\n",
       "    </tr>\n",
       "    <tr>\n",
       "      <th>9</th>\n",
       "      <td>Office Supplies</td>\n",
       "      <td>Los Angeles</td>\n",
       "      <td>United States</td>\n",
       "      <td>RL-196154</td>\n",
       "      <td>Rob Lucas</td>\n",
       "      <td>0.0</td>\n",
       "      <td>US</td>\n",
       "      <td>1</td>\n",
       "      <td>2011-12-05 00:00:00.000</td>\n",
       "      <td>CA-2011-133830</td>\n",
       "      <td>...</td>\n",
       "      <td>49</td>\n",
       "      <td>Consumer</td>\n",
       "      <td>2011-12-10 00:00:00.000</td>\n",
       "      <td>Standard Class</td>\n",
       "      <td>1.99</td>\n",
       "      <td>California</td>\n",
       "      <td>Paper</td>\n",
       "      <td>2011</td>\n",
       "      <td>North America</td>\n",
       "      <td>50</td>\n",
       "    </tr>\n",
       "    <tr>\n",
       "      <th>10</th>\n",
       "      <td>Office Supplies</td>\n",
       "      <td>Los Angeles</td>\n",
       "      <td>United States</td>\n",
       "      <td>KD-163454</td>\n",
       "      <td>Katherine Ducich</td>\n",
       "      <td>0.0</td>\n",
       "      <td>US</td>\n",
       "      <td>1</td>\n",
       "      <td>2011-12-13 00:00:00.000</td>\n",
       "      <td>CA-2011-113579</td>\n",
       "      <td>...</td>\n",
       "      <td>90</td>\n",
       "      <td>Consumer</td>\n",
       "      <td>2011-12-15 00:00:00.000</td>\n",
       "      <td>Second Class</td>\n",
       "      <td>8.53</td>\n",
       "      <td>California</td>\n",
       "      <td>Paper</td>\n",
       "      <td>2011</td>\n",
       "      <td>North America</td>\n",
       "      <td>51</td>\n",
       "    </tr>\n",
       "    <tr>\n",
       "      <th>11</th>\n",
       "      <td>Office Supplies</td>\n",
       "      <td>Los Angeles</td>\n",
       "      <td>United States</td>\n",
       "      <td>JM-161954</td>\n",
       "      <td>Justin MacKendrick</td>\n",
       "      <td>0.0</td>\n",
       "      <td>US</td>\n",
       "      <td>1</td>\n",
       "      <td>2012-02-15 00:00:00.000</td>\n",
       "      <td>CA-2012-116092</td>\n",
       "      <td>...</td>\n",
       "      <td>13</td>\n",
       "      <td>Consumer</td>\n",
       "      <td>2012-02-18 00:00:00.000</td>\n",
       "      <td>Second Class</td>\n",
       "      <td>1.00</td>\n",
       "      <td>California</td>\n",
       "      <td>Paper</td>\n",
       "      <td>2012</td>\n",
       "      <td>North America</td>\n",
       "      <td>7</td>\n",
       "    </tr>\n",
       "    <tr>\n",
       "      <th>12</th>\n",
       "      <td>Office Supplies</td>\n",
       "      <td>Los Angeles</td>\n",
       "      <td>United States</td>\n",
       "      <td>JM-161954</td>\n",
       "      <td>Justin MacKendrick</td>\n",
       "      <td>0.0</td>\n",
       "      <td>US</td>\n",
       "      <td>1</td>\n",
       "      <td>2012-02-15 00:00:00.000</td>\n",
       "      <td>CA-2012-116092</td>\n",
       "      <td>...</td>\n",
       "      <td>19</td>\n",
       "      <td>Consumer</td>\n",
       "      <td>2012-02-18 00:00:00.000</td>\n",
       "      <td>Second Class</td>\n",
       "      <td>0.06</td>\n",
       "      <td>California</td>\n",
       "      <td>Paper</td>\n",
       "      <td>2012</td>\n",
       "      <td>North America</td>\n",
       "      <td>7</td>\n",
       "    </tr>\n",
       "    <tr>\n",
       "      <th>13</th>\n",
       "      <td>Office Supplies</td>\n",
       "      <td>Los Angeles</td>\n",
       "      <td>United States</td>\n",
       "      <td>RD-195854</td>\n",
       "      <td>Rob Dowd</td>\n",
       "      <td>0.0</td>\n",
       "      <td>US</td>\n",
       "      <td>1</td>\n",
       "      <td>2012-02-16 00:00:00.000</td>\n",
       "      <td>CA-2012-121776</td>\n",
       "      <td>...</td>\n",
       "      <td>37</td>\n",
       "      <td>Consumer</td>\n",
       "      <td>2012-02-21 00:00:00.000</td>\n",
       "      <td>Standard Class</td>\n",
       "      <td>4.04</td>\n",
       "      <td>California</td>\n",
       "      <td>Paper</td>\n",
       "      <td>2012</td>\n",
       "      <td>North America</td>\n",
       "      <td>7</td>\n",
       "    </tr>\n",
       "    <tr>\n",
       "      <th>14</th>\n",
       "      <td>Office Supplies</td>\n",
       "      <td>Los Angeles</td>\n",
       "      <td>United States</td>\n",
       "      <td>AB-101654</td>\n",
       "      <td>Alan Barnes</td>\n",
       "      <td>0.0</td>\n",
       "      <td>US</td>\n",
       "      <td>1</td>\n",
       "      <td>2012-03-28 00:00:00.000</td>\n",
       "      <td>CA-2012-131534</td>\n",
       "      <td>...</td>\n",
       "      <td>33</td>\n",
       "      <td>Consumer</td>\n",
       "      <td>2012-04-02 00:00:00.000</td>\n",
       "      <td>Standard Class</td>\n",
       "      <td>2.25</td>\n",
       "      <td>California</td>\n",
       "      <td>Paper</td>\n",
       "      <td>2012</td>\n",
       "      <td>North America</td>\n",
       "      <td>13</td>\n",
       "    </tr>\n",
       "    <tr>\n",
       "      <th>15</th>\n",
       "      <td>Office Supplies</td>\n",
       "      <td>Los Angeles</td>\n",
       "      <td>United States</td>\n",
       "      <td>AR-105404</td>\n",
       "      <td>Andy Reiter</td>\n",
       "      <td>0.0</td>\n",
       "      <td>US</td>\n",
       "      <td>1</td>\n",
       "      <td>2012-04-11 00:00:00.000</td>\n",
       "      <td>US-2012-136987</td>\n",
       "      <td>...</td>\n",
       "      <td>53</td>\n",
       "      <td>Consumer</td>\n",
       "      <td>2012-04-14 00:00:00.000</td>\n",
       "      <td>Second Class</td>\n",
       "      <td>1.59</td>\n",
       "      <td>California</td>\n",
       "      <td>Paper</td>\n",
       "      <td>2012</td>\n",
       "      <td>North America</td>\n",
       "      <td>15</td>\n",
       "    </tr>\n",
       "    <tr>\n",
       "      <th>16</th>\n",
       "      <td>Office Supplies</td>\n",
       "      <td>Los Angeles</td>\n",
       "      <td>United States</td>\n",
       "      <td>LH-171554</td>\n",
       "      <td>Logan Haushalter</td>\n",
       "      <td>0.0</td>\n",
       "      <td>US</td>\n",
       "      <td>1</td>\n",
       "      <td>2012-06-19 00:00:00.000</td>\n",
       "      <td>CA-2012-121965</td>\n",
       "      <td>...</td>\n",
       "      <td>6</td>\n",
       "      <td>Consumer</td>\n",
       "      <td>2012-06-23 00:00:00.000</td>\n",
       "      <td>Standard Class</td>\n",
       "      <td>0.52</td>\n",
       "      <td>California</td>\n",
       "      <td>Paper</td>\n",
       "      <td>2012</td>\n",
       "      <td>North America</td>\n",
       "      <td>25</td>\n",
       "    </tr>\n",
       "    <tr>\n",
       "      <th>17</th>\n",
       "      <td>Office Supplies</td>\n",
       "      <td>Los Angeles</td>\n",
       "      <td>United States</td>\n",
       "      <td>AR-105104</td>\n",
       "      <td>Andrew Roberts</td>\n",
       "      <td>0.0</td>\n",
       "      <td>US</td>\n",
       "      <td>1</td>\n",
       "      <td>2012-08-31 00:00:00.000</td>\n",
       "      <td>CA-2012-112319</td>\n",
       "      <td>...</td>\n",
       "      <td>58</td>\n",
       "      <td>Consumer</td>\n",
       "      <td>2012-09-05 00:00:00.000</td>\n",
       "      <td>Standard Class</td>\n",
       "      <td>7.98</td>\n",
       "      <td>California</td>\n",
       "      <td>Paper</td>\n",
       "      <td>2012</td>\n",
       "      <td>North America</td>\n",
       "      <td>35</td>\n",
       "    </tr>\n",
       "    <tr>\n",
       "      <th>18</th>\n",
       "      <td>Office Supplies</td>\n",
       "      <td>Los Angeles</td>\n",
       "      <td>United States</td>\n",
       "      <td>NG-184304</td>\n",
       "      <td>Nathan Gelder</td>\n",
       "      <td>0.0</td>\n",
       "      <td>US</td>\n",
       "      <td>1</td>\n",
       "      <td>2012-11-22 00:00:00.000</td>\n",
       "      <td>CA-2012-137708</td>\n",
       "      <td>...</td>\n",
       "      <td>38</td>\n",
       "      <td>Consumer</td>\n",
       "      <td>2012-11-25 00:00:00.000</td>\n",
       "      <td>Second Class</td>\n",
       "      <td>3.90</td>\n",
       "      <td>California</td>\n",
       "      <td>Paper</td>\n",
       "      <td>2012</td>\n",
       "      <td>North America</td>\n",
       "      <td>47</td>\n",
       "    </tr>\n",
       "    <tr>\n",
       "      <th>19</th>\n",
       "      <td>Office Supplies</td>\n",
       "      <td>Los Angeles</td>\n",
       "      <td>United States</td>\n",
       "      <td>NG-184304</td>\n",
       "      <td>Nathan Gelder</td>\n",
       "      <td>0.0</td>\n",
       "      <td>US</td>\n",
       "      <td>1</td>\n",
       "      <td>2012-11-22 00:00:00.000</td>\n",
       "      <td>CA-2012-137708</td>\n",
       "      <td>...</td>\n",
       "      <td>43</td>\n",
       "      <td>Consumer</td>\n",
       "      <td>2012-11-25 00:00:00.000</td>\n",
       "      <td>Second Class</td>\n",
       "      <td>6.15</td>\n",
       "      <td>California</td>\n",
       "      <td>Paper</td>\n",
       "      <td>2012</td>\n",
       "      <td>North America</td>\n",
       "      <td>47</td>\n",
       "    </tr>\n",
       "  </tbody>\n",
       "</table>\n",
       "<p>20 rows × 27 columns</p>\n",
       "</div>"
      ],
      "text/plain": [
       "           Category         City        Country Customer ID  \\\n",
       "0   Office Supplies  Los Angeles  United States   LS-172304   \n",
       "1   Office Supplies  Los Angeles  United States   MV-174854   \n",
       "2   Office Supplies  Los Angeles  United States   CS-121304   \n",
       "3   Office Supplies  Los Angeles  United States   CS-121304   \n",
       "4   Office Supplies  Los Angeles  United States   AP-109154   \n",
       "5   Office Supplies  Los Angeles  United States   JF-154904   \n",
       "6   Office Supplies  Los Angeles  United States   WB-218504   \n",
       "7   Office Supplies  Los Angeles  United States   JA-159704   \n",
       "8   Office Supplies  Los Angeles  United States   SP-209204   \n",
       "9   Office Supplies  Los Angeles  United States   RL-196154   \n",
       "10  Office Supplies  Los Angeles  United States   KD-163454   \n",
       "11  Office Supplies  Los Angeles  United States   JM-161954   \n",
       "12  Office Supplies  Los Angeles  United States   JM-161954   \n",
       "13  Office Supplies  Los Angeles  United States   RD-195854   \n",
       "14  Office Supplies  Los Angeles  United States   AB-101654   \n",
       "15  Office Supplies  Los Angeles  United States   AR-105404   \n",
       "16  Office Supplies  Los Angeles  United States   LH-171554   \n",
       "17  Office Supplies  Los Angeles  United States   AR-105104   \n",
       "18  Office Supplies  Los Angeles  United States   NG-184304   \n",
       "19  Office Supplies  Los Angeles  United States   NG-184304   \n",
       "\n",
       "         Customer Name  Discount Market  记录数               Order Date  \\\n",
       "0     Lycoris Saunders       0.0     US    1  2011-01-07 00:00:00.000   \n",
       "1        Mark Van Huff       0.0     US    1  2011-01-21 00:00:00.000   \n",
       "2         Chad Sievert       0.0     US    1  2011-08-05 00:00:00.000   \n",
       "3         Chad Sievert       0.0     US    1  2011-08-05 00:00:00.000   \n",
       "4       Arthur Prichep       0.0     US    1  2011-09-29 00:00:00.000   \n",
       "5         Jeremy Farry       0.0     US    1  2011-10-19 00:00:00.000   \n",
       "6        William Brown       0.0     US    1  2011-11-04 00:00:00.000   \n",
       "7         Joseph Airdo       0.0     US    1  2011-11-12 00:00:00.000   \n",
       "8         Susan Pistek       0.0     US    1  2011-11-22 00:00:00.000   \n",
       "9            Rob Lucas       0.0     US    1  2011-12-05 00:00:00.000   \n",
       "10    Katherine Ducich       0.0     US    1  2011-12-13 00:00:00.000   \n",
       "11  Justin MacKendrick       0.0     US    1  2012-02-15 00:00:00.000   \n",
       "12  Justin MacKendrick       0.0     US    1  2012-02-15 00:00:00.000   \n",
       "13            Rob Dowd       0.0     US    1  2012-02-16 00:00:00.000   \n",
       "14         Alan Barnes       0.0     US    1  2012-03-28 00:00:00.000   \n",
       "15         Andy Reiter       0.0     US    1  2012-04-11 00:00:00.000   \n",
       "16    Logan Haushalter       0.0     US    1  2012-06-19 00:00:00.000   \n",
       "17      Andrew Roberts       0.0     US    1  2012-08-31 00:00:00.000   \n",
       "18       Nathan Gelder       0.0     US    1  2012-11-22 00:00:00.000   \n",
       "19       Nathan Gelder       0.0     US    1  2012-11-22 00:00:00.000   \n",
       "\n",
       "          Order ID  ... Sales   Segment                Ship Date  \\\n",
       "0   CA-2011-130813  ...    19  Consumer  2011-01-09 00:00:00.000   \n",
       "1   CA-2011-148614  ...    19  Consumer  2011-01-26 00:00:00.000   \n",
       "2   CA-2011-118962  ...    21  Consumer  2011-08-09 00:00:00.000   \n",
       "3   CA-2011-118962  ...   111  Consumer  2011-08-09 00:00:00.000   \n",
       "4   CA-2011-146969  ...     6  Consumer  2011-10-03 00:00:00.000   \n",
       "5   CA-2011-117317  ...    13  Consumer  2011-10-19 00:00:00.000   \n",
       "6   CA-2011-125829  ...    19  Consumer  2011-11-11 00:00:00.000   \n",
       "7   CA-2011-151295  ...    12  Consumer  2011-11-16 00:00:00.000   \n",
       "8   CA-2011-135090  ...    54  Consumer  2011-11-26 00:00:00.000   \n",
       "9   CA-2011-133830  ...    49  Consumer  2011-12-10 00:00:00.000   \n",
       "10  CA-2011-113579  ...    90  Consumer  2011-12-15 00:00:00.000   \n",
       "11  CA-2012-116092  ...    13  Consumer  2012-02-18 00:00:00.000   \n",
       "12  CA-2012-116092  ...    19  Consumer  2012-02-18 00:00:00.000   \n",
       "13  CA-2012-121776  ...    37  Consumer  2012-02-21 00:00:00.000   \n",
       "14  CA-2012-131534  ...    33  Consumer  2012-04-02 00:00:00.000   \n",
       "15  US-2012-136987  ...    53  Consumer  2012-04-14 00:00:00.000   \n",
       "16  CA-2012-121965  ...     6  Consumer  2012-06-23 00:00:00.000   \n",
       "17  CA-2012-112319  ...    58  Consumer  2012-09-05 00:00:00.000   \n",
       "18  CA-2012-137708  ...    38  Consumer  2012-11-25 00:00:00.000   \n",
       "19  CA-2012-137708  ...    43  Consumer  2012-11-25 00:00:00.000   \n",
       "\n",
       "         Ship Mode  Shipping Cost       State  Sub-Category  Year  \\\n",
       "0     Second Class           4.37  California         Paper  2011   \n",
       "1   Standard Class           0.94  California         Paper  2011   \n",
       "2   Standard Class           1.81  California         Paper  2011   \n",
       "3   Standard Class           4.59  California         Paper  2011   \n",
       "4   Standard Class           1.32  California         Paper  2011   \n",
       "5         Same Day           2.39  California         Paper  2011   \n",
       "6   Standard Class           1.15  California         Paper  2011   \n",
       "7   Standard Class           0.92  California         Paper  2011   \n",
       "8   Standard Class           6.98  California         Paper  2011   \n",
       "9   Standard Class           1.99  California         Paper  2011   \n",
       "10    Second Class           8.53  California         Paper  2011   \n",
       "11    Second Class           1.00  California         Paper  2012   \n",
       "12    Second Class           0.06  California         Paper  2012   \n",
       "13  Standard Class           4.04  California         Paper  2012   \n",
       "14  Standard Class           2.25  California         Paper  2012   \n",
       "15    Second Class           1.59  California         Paper  2012   \n",
       "16  Standard Class           0.52  California         Paper  2012   \n",
       "17  Standard Class           7.98  California         Paper  2012   \n",
       "18    Second Class           3.90  California         Paper  2012   \n",
       "19    Second Class           6.15  California         Paper  2012   \n",
       "\n",
       "          Market2 weeknum  \n",
       "0   North America       2  \n",
       "1   North America       4  \n",
       "2   North America      32  \n",
       "3   North America      32  \n",
       "4   North America      40  \n",
       "5   North America      43  \n",
       "6   North America      45  \n",
       "7   North America      46  \n",
       "8   North America      48  \n",
       "9   North America      50  \n",
       "10  North America      51  \n",
       "11  North America       7  \n",
       "12  North America       7  \n",
       "13  North America       7  \n",
       "14  North America      13  \n",
       "15  North America      15  \n",
       "16  North America      25  \n",
       "17  North America      35  \n",
       "18  North America      47  \n",
       "19  North America      47  \n",
       "\n",
       "[20 rows x 27 columns]"
      ]
     },
     "execution_count": 23,
     "metadata": {},
     "output_type": "execute_result"
    }
   ],
   "source": [
    "df.head(20)"
   ]
  },
  {
   "cell_type": "code",
   "execution_count": 28,
   "id": "ee3805c4-d356-464a-afaf-f2e74b78d137",
   "metadata": {},
   "outputs": [
    {
     "data": {
      "text/plain": [
       "Category                  object\n",
       "City                      object\n",
       "Country                   object\n",
       "Customer ID               object\n",
       "Customer Name             object\n",
       "Discount                 float64\n",
       "Market                    object\n",
       "记录数                        int64\n",
       "Order Date        datetime64[ns]\n",
       "Order ID                  object\n",
       "Order Priority            object\n",
       "Product ID                object\n",
       "Product Name              object\n",
       "Profit                   float64\n",
       "Quantity                   int64\n",
       "Region                    object\n",
       "Row ID                     int64\n",
       "Sales                      int64\n",
       "Segment                   object\n",
       "Ship Date                 object\n",
       "Ship Mode                 object\n",
       "Shipping Cost            float64\n",
       "State                     object\n",
       "Sub-Category              object\n",
       "Year                       int64\n",
       "Market2                   object\n",
       "weeknum                    int64\n",
       "dtype: object"
      ]
     },
     "execution_count": 28,
     "metadata": {},
     "output_type": "execute_result"
    }
   ],
   "source": [
    "df.dtypes"
   ]
  },
  {
   "cell_type": "code",
   "execution_count": 30,
   "id": "9b6b3455-5f6f-4495-9628-c58c0ddde656",
   "metadata": {},
   "outputs": [],
   "source": [
    "# converting dates into datetime format"
   ]
  },
  {
   "cell_type": "code",
   "execution_count": 29,
   "id": "559a5ac5-0c34-4cac-8df7-c7bfaefc76f1",
   "metadata": {},
   "outputs": [],
   "source": [
    "df['Order Date'] = pd.to_datetime(df['Order Date'])\n",
    "df['Ship Date'] = pd.to_datetime(df['Ship Date'])"
   ]
  },
  {
   "cell_type": "code",
   "execution_count": 9,
   "id": "69208e92-3c65-4785-96d4-84df35937850",
   "metadata": {},
   "outputs": [
    {
     "data": {
      "text/html": [
       "<div>\n",
       "<style scoped>\n",
       "    .dataframe tbody tr th:only-of-type {\n",
       "        vertical-align: middle;\n",
       "    }\n",
       "\n",
       "    .dataframe tbody tr th {\n",
       "        vertical-align: top;\n",
       "    }\n",
       "\n",
       "    .dataframe thead th {\n",
       "        text-align: right;\n",
       "    }\n",
       "</style>\n",
       "<table border=\"1\" class=\"dataframe\">\n",
       "  <thead>\n",
       "    <tr style=\"text-align: right;\">\n",
       "      <th></th>\n",
       "      <th>Discount</th>\n",
       "      <th>记录数</th>\n",
       "      <th>Profit</th>\n",
       "      <th>Quantity</th>\n",
       "      <th>Row ID</th>\n",
       "      <th>Sales</th>\n",
       "      <th>Shipping Cost</th>\n",
       "      <th>Year</th>\n",
       "      <th>weeknum</th>\n",
       "    </tr>\n",
       "  </thead>\n",
       "  <tbody>\n",
       "    <tr>\n",
       "      <th>count</th>\n",
       "      <td>51290.000000</td>\n",
       "      <td>51290.0</td>\n",
       "      <td>51290.000000</td>\n",
       "      <td>51290.000000</td>\n",
       "      <td>51290.00000</td>\n",
       "      <td>51290.000000</td>\n",
       "      <td>51290.000000</td>\n",
       "      <td>51290.000000</td>\n",
       "      <td>51290.000000</td>\n",
       "    </tr>\n",
       "    <tr>\n",
       "      <th>mean</th>\n",
       "      <td>0.142908</td>\n",
       "      <td>1.0</td>\n",
       "      <td>28.610982</td>\n",
       "      <td>3.476545</td>\n",
       "      <td>25645.50000</td>\n",
       "      <td>246.498440</td>\n",
       "      <td>26.375818</td>\n",
       "      <td>2012.777208</td>\n",
       "      <td>31.287112</td>\n",
       "    </tr>\n",
       "    <tr>\n",
       "      <th>std</th>\n",
       "      <td>0.212280</td>\n",
       "      <td>0.0</td>\n",
       "      <td>174.340972</td>\n",
       "      <td>2.278766</td>\n",
       "      <td>14806.29199</td>\n",
       "      <td>487.567175</td>\n",
       "      <td>57.296810</td>\n",
       "      <td>1.098931</td>\n",
       "      <td>14.429795</td>\n",
       "    </tr>\n",
       "    <tr>\n",
       "      <th>min</th>\n",
       "      <td>0.000000</td>\n",
       "      <td>1.0</td>\n",
       "      <td>-6599.978000</td>\n",
       "      <td>1.000000</td>\n",
       "      <td>1.00000</td>\n",
       "      <td>0.000000</td>\n",
       "      <td>0.002000</td>\n",
       "      <td>2011.000000</td>\n",
       "      <td>1.000000</td>\n",
       "    </tr>\n",
       "    <tr>\n",
       "      <th>25%</th>\n",
       "      <td>0.000000</td>\n",
       "      <td>1.0</td>\n",
       "      <td>0.000000</td>\n",
       "      <td>2.000000</td>\n",
       "      <td>12823.25000</td>\n",
       "      <td>31.000000</td>\n",
       "      <td>2.610000</td>\n",
       "      <td>2012.000000</td>\n",
       "      <td>20.000000</td>\n",
       "    </tr>\n",
       "    <tr>\n",
       "      <th>50%</th>\n",
       "      <td>0.000000</td>\n",
       "      <td>1.0</td>\n",
       "      <td>9.240000</td>\n",
       "      <td>3.000000</td>\n",
       "      <td>25645.50000</td>\n",
       "      <td>85.000000</td>\n",
       "      <td>7.790000</td>\n",
       "      <td>2013.000000</td>\n",
       "      <td>33.000000</td>\n",
       "    </tr>\n",
       "    <tr>\n",
       "      <th>75%</th>\n",
       "      <td>0.200000</td>\n",
       "      <td>1.0</td>\n",
       "      <td>36.810000</td>\n",
       "      <td>5.000000</td>\n",
       "      <td>38467.75000</td>\n",
       "      <td>251.000000</td>\n",
       "      <td>24.450000</td>\n",
       "      <td>2014.000000</td>\n",
       "      <td>44.000000</td>\n",
       "    </tr>\n",
       "    <tr>\n",
       "      <th>max</th>\n",
       "      <td>0.850000</td>\n",
       "      <td>1.0</td>\n",
       "      <td>8399.976000</td>\n",
       "      <td>14.000000</td>\n",
       "      <td>51290.00000</td>\n",
       "      <td>22638.000000</td>\n",
       "      <td>933.570000</td>\n",
       "      <td>2014.000000</td>\n",
       "      <td>53.000000</td>\n",
       "    </tr>\n",
       "  </tbody>\n",
       "</table>\n",
       "</div>"
      ],
      "text/plain": [
       "           Discount      记录数        Profit      Quantity       Row ID  \\\n",
       "count  51290.000000  51290.0  51290.000000  51290.000000  51290.00000   \n",
       "mean       0.142908      1.0     28.610982      3.476545  25645.50000   \n",
       "std        0.212280      0.0    174.340972      2.278766  14806.29199   \n",
       "min        0.000000      1.0  -6599.978000      1.000000      1.00000   \n",
       "25%        0.000000      1.0      0.000000      2.000000  12823.25000   \n",
       "50%        0.000000      1.0      9.240000      3.000000  25645.50000   \n",
       "75%        0.200000      1.0     36.810000      5.000000  38467.75000   \n",
       "max        0.850000      1.0   8399.976000     14.000000  51290.00000   \n",
       "\n",
       "              Sales  Shipping Cost          Year       weeknum  \n",
       "count  51290.000000   51290.000000  51290.000000  51290.000000  \n",
       "mean     246.498440      26.375818   2012.777208     31.287112  \n",
       "std      487.567175      57.296810      1.098931     14.429795  \n",
       "min        0.000000       0.002000   2011.000000      1.000000  \n",
       "25%       31.000000       2.610000   2012.000000     20.000000  \n",
       "50%       85.000000       7.790000   2013.000000     33.000000  \n",
       "75%      251.000000      24.450000   2014.000000     44.000000  \n",
       "max    22638.000000     933.570000   2014.000000     53.000000  "
      ]
     },
     "execution_count": 9,
     "metadata": {},
     "output_type": "execute_result"
    }
   ],
   "source": [
    "df.describe()"
   ]
  },
  {
   "cell_type": "code",
   "execution_count": 10,
   "id": "0fdbf451-c37a-42aa-9d82-4dba16c93068",
   "metadata": {},
   "outputs": [
    {
     "data": {
      "text/plain": [
       "Index(['Category', 'City', 'Country', 'Customer ID', 'Customer Name',\n",
       "       'Discount', 'Market', '记录数', 'Order Date', 'Order ID', 'Order Priority',\n",
       "       'Product ID', 'Product Name', 'Profit', 'Quantity', 'Region', 'Row ID',\n",
       "       'Sales', 'Segment', 'Ship Date', 'Ship Mode', 'Shipping Cost', 'State',\n",
       "       'Sub-Category', 'Year', 'Market2', 'weeknum'],\n",
       "      dtype='object')"
      ]
     },
     "execution_count": 10,
     "metadata": {},
     "output_type": "execute_result"
    }
   ],
   "source": [
    "df.columns"
   ]
  },
  {
   "cell_type": "code",
   "execution_count": 11,
   "id": "50f78db7-9c64-46d1-b818-a9cc242a0c7c",
   "metadata": {},
   "outputs": [
    {
     "data": {
      "text/plain": [
       "Category          0\n",
       "City              0\n",
       "Country           0\n",
       "Customer ID       0\n",
       "Customer Name     0\n",
       "Discount          0\n",
       "Market            0\n",
       "记录数               0\n",
       "Order Date        0\n",
       "Order ID          0\n",
       "Order Priority    0\n",
       "Product ID        0\n",
       "Product Name      0\n",
       "Profit            0\n",
       "Quantity          0\n",
       "Region            0\n",
       "Row ID            0\n",
       "Sales             0\n",
       "Segment           0\n",
       "Ship Date         0\n",
       "Ship Mode         0\n",
       "Shipping Cost     0\n",
       "State             0\n",
       "Sub-Category      0\n",
       "Year              0\n",
       "Market2           0\n",
       "weeknum           0\n",
       "dtype: int64"
      ]
     },
     "execution_count": 11,
     "metadata": {},
     "output_type": "execute_result"
    }
   ],
   "source": [
    "# check for null values\n",
    "df.isnull().sum()"
   ]
  },
  {
   "cell_type": "code",
   "execution_count": 14,
   "id": "9e895a86-e4b2-4a3e-baa0-08a495527ab2",
   "metadata": {},
   "outputs": [
    {
     "data": {
      "text/plain": [
       "0"
      ]
     },
     "execution_count": 14,
     "metadata": {},
     "output_type": "execute_result"
    }
   ],
   "source": [
    "df.duplicated().sum()"
   ]
  },
  {
   "cell_type": "markdown",
   "id": "ea142b06-5e24-486c-8b0a-8705d704abbf",
   "metadata": {},
   "source": [
    "###  Step 3: Exploratory Data Analysis (EDA)"
   ]
  },
  {
   "cell_type": "markdown",
   "id": "77c347b7-0650-49ac-aeff-8ffef06336cf",
   "metadata": {},
   "source": [
    " #### Top 5 Best-Selling Products"
   ]
  },
  {
   "cell_type": "code",
   "execution_count": 21,
   "id": "29c213e7-e0a9-414f-b6b7-5253077cbec5",
   "metadata": {},
   "outputs": [
    {
     "data": {
      "text/plain": [
       "Product Name\n",
       "Apple Smart Phone, Full Size             86936\n",
       "Cisco Smart Phone, Full Size             76441\n",
       "Motorola Smart Phone, Full Size          73159\n",
       "Nokia Smart Phone, Full Size             71904\n",
       "Canon imageCLASS 2200 Advanced Copier    61600\n",
       "Name: Sales, dtype: int64"
      ]
     },
     "execution_count": 21,
     "metadata": {},
     "output_type": "execute_result"
    }
   ],
   "source": [
    "df_prod_sell = df.groupby('Product Name')['Sales'].sum()\n",
    "df_prod_sell.sort_values(ascending = False).head(5)"
   ]
  },
  {
   "cell_type": "markdown",
   "id": "b7f7cd0d-a385-4de1-9d6b-0830659edd9d",
   "metadata": {},
   "source": [
    "#### Revenue by Region"
   ]
  },
  {
   "cell_type": "code",
   "execution_count": 22,
   "id": "907db328-e0b5-46c4-9230-1d3f4adc7570",
   "metadata": {},
   "outputs": [
    {
     "data": {
      "text/plain": [
       "Region\n",
       "Africa             783776\n",
       "Canada              66932\n",
       "Caribbean          324281\n",
       "Central           2822399\n",
       "Central Asia       752839\n",
       "EMEA               806184\n",
       "East               678834\n",
       "North             1248192\n",
       "North Asia         848349\n",
       "Oceania           1100207\n",
       "South             1600960\n",
       "Southeast Asia     884438\n",
       "West               725514\n",
       "Name: Sales, dtype: int64"
      ]
     },
     "execution_count": 22,
     "metadata": {},
     "output_type": "execute_result"
    }
   ],
   "source": [
    "df.groupby('Region')['Sales'].sum()"
   ]
  },
  {
   "cell_type": "markdown",
   "id": "e7461943-d296-4a11-b091-16dd44a77775",
   "metadata": {},
   "source": [
    "#### Average Shipping Time"
   ]
  },
  {
   "cell_type": "code",
   "execution_count": 33,
   "id": "eb3b7a2d-9641-43ea-8cc0-b207d89ca3bd",
   "metadata": {},
   "outputs": [],
   "source": [
    "df_Shipping_time = df['Ship Date'] - df['Order Date']\n"
   ]
  },
  {
   "cell_type": "code",
   "execution_count": 35,
   "id": "b24e41bf-aa06-4ee5-bca2-f2779542b304",
   "metadata": {},
   "outputs": [
    {
     "data": {
      "text/plain": [
       "Timedelta('3 days 23:15:53.589393644')"
      ]
     },
     "execution_count": 35,
     "metadata": {},
     "output_type": "execute_result"
    }
   ],
   "source": [
    "df_Shipping_time.mean()"
   ]
  },
  {
   "cell_type": "markdown",
   "id": "d2a5321a-3b90-4967-ae60-08340d78d164",
   "metadata": {},
   "source": [
    "### Step 4: Data Visualization"
   ]
  },
  {
   "cell_type": "markdown",
   "id": "4d3366eb-75a4-4e1e-880f-3eb6ae82f8ed",
   "metadata": {},
   "source": [
    "#### (A) Sales Trend Over Time"
   ]
  },
  {
   "cell_type": "code",
   "execution_count": 44,
   "id": "5231f845-9b80-4c7d-b45a-899490aea614",
   "metadata": {},
   "outputs": [
    {
     "data": {
      "text/plain": [
       "Year\n",
       "2011    2259511\n",
       "2012    2677493\n",
       "2013    3405860\n",
       "2014    4300041\n",
       "Name: Sales, dtype: int64"
      ]
     },
     "execution_count": 44,
     "metadata": {},
     "output_type": "execute_result"
    }
   ],
   "source": [
    "df_sales_yearly = df.groupby('Year')['Sales'].sum()\n",
    "df_sales_yearly"
   ]
  },
  {
   "cell_type": "code",
   "execution_count": 45,
   "id": "f4b9c23a-bdac-4d10-8e78-aa1c820b4ff1",
   "metadata": {},
   "outputs": [
    {
     "data": {
      "image/png": "[encoded data removed]",
      "text/plain": [
       "<Figure size 640x480 with 1 Axes>"
      ]
     },
     "metadata": {},
     "output_type": "display_data"
    }
   ],
   "source": [
    "df_sales_yearly.plot(kind = 'line')\n",
    "plt.title('Sales over Years')\n",
    "plt.xlabel('Year')\n",
    "plt.ylabel('Sales')\n",
    "plt.show()"
   ]
  },
  {
   "cell_type": "markdown",
   "id": "6a9524c2-51f9-4112-90d1-0f24974503db",
   "metadata": {},
   "source": [
    "#### (B) Sales Distribution by Category"
   ]
  },
  {
   "cell_type": "code",
   "execution_count": 49,
   "id": "5627470b-c63e-4f0f-b330-42002c6fe371",
   "metadata": {},
   "outputs": [
    {
     "data": {
      "text/plain": [
       "Category\n",
       "Furniture          4110884\n",
       "Office Supplies    3787330\n",
       "Technology         4744691\n",
       "Name: Sales, dtype: int64"
      ]
     },
     "execution_count": 49,
     "metadata": {},
     "output_type": "execute_result"
    }
   ],
   "source": [
    "df.groupby('Category')['Sales'].sum()"
   ]
  },
  {
   "cell_type": "code",
   "execution_count": 50,
   "id": "ab7d9171-9507-45f2-8b6d-b2c036e805e9",
   "metadata": {},
   "outputs": [
    {
     "data": {
      "image/png": "[encoded data removed]",
      "text/plain": [
       "<Figure size 640x480 with 1 Axes>"
      ]
     },
     "metadata": {},
     "output_type": "display_data"
    }
   ],
   "source": [
    "sns.boxplot(x = 'Category', y = 'Sales', data = df)\n",
    "plt.title('Sales distribution by Category')\n",
    "plt.xlabel('Category')\n",
    "plt.ylabel('Sales')\n",
    "plt.show()"
   ]
  },
  {
   "cell_type": "markdown",
   "id": "ab165a20-a057-4902-aa5c-d80ea4170c10",
   "metadata": {},
   "source": [
    "#### (C) Top 10 Customers by Revenue"
   ]
  },
  {
   "cell_type": "code",
   "execution_count": 52,
   "id": "d8377c32-eae2-4c33-96c9-0305d40f0049",
   "metadata": {},
   "outputs": [],
   "source": [
    "Cust_by_revenue = df.groupby('Customer Name')['Sales'].sum()"
   ]
  },
  {
   "cell_type": "code",
   "execution_count": 54,
   "id": "bed43fbb-7402-420f-9cac-edb32c33253d",
   "metadata": {},
   "outputs": [],
   "source": [
    "Top_cust = Cust_by_revenue.sort_values(ascending = False)"
   ]
  },
  {
   "cell_type": "code",
   "execution_count": 66,
   "id": "d181b0e1-dd6c-4d8e-99ea-9d05686ebc94",
   "metadata": {},
   "outputs": [
    {
     "data": {
      "text/plain": [
       "Customer Name\n",
       "Tom Ashbrook          40489\n",
       "Tamara Chand          37453\n",
       "Greg Tran             35552\n",
       "Christopher Conant    35187\n",
       "Sean Miller           35170\n",
       "Bart Watters          32315\n",
       "Natalie Fritzler      31778\n",
       "Fred Hopkins          30404\n",
       "Jane Waco             30288\n",
       "Hunter Lopez          30246\n",
       "Name: Sales, dtype: int64"
      ]
     },
     "execution_count": 66,
     "metadata": {},
     "output_type": "execute_result"
    }
   ],
   "source": [
    "Top_cust.head(10)"
   ]
  },
  {
   "cell_type": "code",
   "execution_count": 67,
   "id": "12b001be-3498-46af-ad9a-6764e2a461db",
   "metadata": {},
   "outputs": [
    {
     "data": {
      "image/png": "[encoded data removed]",
      "text/plain": [
       "<Figure size 640x480 with 1 Axes>"
      ]
     },
     "metadata": {},
     "output_type": "display_data"
    }
   ],
   "source": [
    "Top_cust.head(10).plot(kind=\"bar\", title=\"Top 10 Customers by Revenue\")\n",
    "plt.show()"
   ]
  },
  {
   "cell_type": "markdown",
   "id": "9faef8d7-e730-4f87-84a7-2a5a02867d60",
   "metadata": {},
   "source": [
    "#### (D) Sales by Region"
   ]
  },
  {
   "cell_type": "code",
   "execution_count": 70,
   "id": "c0949e2c-aa7e-4a7c-b6c4-726fec331f28",
   "metadata": {},
   "outputs": [
    {
     "data": {
      "text/plain": [
       "Region\n",
       "Africa             783776\n",
       "Canada              66932\n",
       "Caribbean          324281\n",
       "Central           2822399\n",
       "Central Asia       752839\n",
       "EMEA               806184\n",
       "East               678834\n",
       "North             1248192\n",
       "North Asia         848349\n",
       "Oceania           1100207\n",
       "South             1600960\n",
       "Southeast Asia     884438\n",
       "West               725514\n",
       "Name: Sales, dtype: int64"
      ]
     },
     "execution_count": 70,
     "metadata": {},
     "output_type": "execute_result"
    }
   ],
   "source": [
    "Sales_by_region = df.groupby('Region')['Sales'].sum()\n",
    "Sales_by_region"
   ]
  },
  {
   "cell_type": "code",
   "execution_count": 71,
   "id": "033dd551-2ca6-4081-91ad-dfb8fc4773f0",
   "metadata": {},
   "outputs": [
    {
     "data": {
      "image/png": "[encoded data removed]",
      "text/plain": [
       "<Figure size 640x480 with 1 Axes>"
      ]
     },
     "metadata": {},
     "output_type": "display_data"
    }
   ],
   "source": [
    "Sales_by_region.plot(kind = 'bar', title = 'Sales by Region')\n",
    "plt.show()"
   ]
  },
  {
   "cell_type": "code",
   "execution_count": null,
   "id": "45dd3653-eafa-4949-a9bb-74ca2d0d8c32",
   "metadata": {},
   "outputs": [],
   "source": []
  }
 ],
 "metadata": {
  "kernelspec": {
   "display_name": "Python 3 (ipykernel)",
   "language": "python",
   "name": "python3"
  },
  "language_info": {
   "codemirror_mode": {
    "name": "ipython",
    "version": 3
   },
   "file_extension": ".py",
   "mimetype": "text/x-python",
   "name": "python",
   "nbconvert_exporter": "python",
   "pygments_lexer": "ipython3",
   "version": "3.12.7"
  }
 },
 "nbformat": 4,
 "nbformat_minor": 5
}
