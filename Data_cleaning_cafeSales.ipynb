{
 "cells": [
  {
   "cell_type": "markdown",
   "id": "8977205e-dea6-4164-a8fb-57b0360a4cee",
   "metadata": {},
   "source": [
    "### Data cleaning of Cafe Sales Dataset using pandas"
   ]
  },
  {
   "cell_type": "code",
   "execution_count": 2,
   "id": "35d6b5d1-8abe-4cae-9427-287039087fb8",
   "metadata": {},
   "outputs": [],
   "source": [
    "import pandas as pd   # importing library"
   ]
  },
  {
   "cell_type": "code",
   "execution_count": 18,
   "id": "34cc90a5-7490-4ee8-822d-2e58fed037e1",
   "metadata": {},
   "outputs": [],
   "source": [
    "df = pd.read_excel(\"cafe_sales1.xlsx\")     # reading excel workbook using pandas"
   ]
  },
  {
   "cell_type": "code",
   "execution_count": 19,
   "id": "75463a12-d29f-41f6-a13e-950b44ba23c0",
   "metadata": {},
   "outputs": [
    {
     "data": {
      "text/html": [
       "<div>\n",
       "<style scoped>\n",
       "    .dataframe tbody tr th:only-of-type {\n",
       "        vertical-align: middle;\n",
       "    }\n",
       "\n",
       "    .dataframe tbody tr th {\n",
       "        vertical-align: top;\n",
       "    }\n",
       "\n",
       "    .dataframe thead th {\n",
       "        text-align: right;\n",
       "    }\n",
       "</style>\n",
       "<table border=\"1\" class=\"dataframe\">\n",
       "  <thead>\n",
       "    <tr style=\"text-align: right;\">\n",
       "      <th></th>\n",
       "      <th>Transaction ID</th>\n",
       "      <th>Item</th>\n",
       "      <th>Quantity</th>\n",
       "      <th>Price Per Unit</th>\n",
       "      <th>Total Spent</th>\n",
       "      <th>Payment Method</th>\n",
       "      <th>Location</th>\n",
       "      <th>Transaction Date</th>\n",
       "      <th>Month of Transaction</th>\n",
       "      <th>Year of Transaction</th>\n",
       "    </tr>\n",
       "  </thead>\n",
       "  <tbody>\n",
       "    <tr>\n",
       "      <th>0</th>\n",
       "      <td>TXN_1961373</td>\n",
       "      <td>Coffee</td>\n",
       "      <td>2</td>\n",
       "      <td>2</td>\n",
       "      <td>4</td>\n",
       "      <td>Credit Card</td>\n",
       "      <td>Takeaway</td>\n",
       "      <td>2023-09-08 00:00:00</td>\n",
       "      <td>9.0</td>\n",
       "      <td>2023.0</td>\n",
       "    </tr>\n",
       "    <tr>\n",
       "      <th>1</th>\n",
       "      <td>TXN_4977031</td>\n",
       "      <td>Cake</td>\n",
       "      <td>4</td>\n",
       "      <td>3</td>\n",
       "      <td>12</td>\n",
       "      <td>Cash</td>\n",
       "      <td>In-store</td>\n",
       "      <td>2023-05-16 00:00:00</td>\n",
       "      <td>5.0</td>\n",
       "      <td>2023.0</td>\n",
       "    </tr>\n",
       "    <tr>\n",
       "      <th>2</th>\n",
       "      <td>TXN_4271903</td>\n",
       "      <td>Cookie</td>\n",
       "      <td>4</td>\n",
       "      <td>1</td>\n",
       "      <td>ERROR</td>\n",
       "      <td>Credit Card</td>\n",
       "      <td>In-store</td>\n",
       "      <td>2023-07-19 00:00:00</td>\n",
       "      <td>7.0</td>\n",
       "      <td>2023.0</td>\n",
       "    </tr>\n",
       "    <tr>\n",
       "      <th>3</th>\n",
       "      <td>TXN_7034554</td>\n",
       "      <td>Salad</td>\n",
       "      <td>2</td>\n",
       "      <td>5</td>\n",
       "      <td>10</td>\n",
       "      <td>UNKNOWN</td>\n",
       "      <td>UNKNOWN</td>\n",
       "      <td>2023-04-27 00:00:00</td>\n",
       "      <td>4.0</td>\n",
       "      <td>2023.0</td>\n",
       "    </tr>\n",
       "    <tr>\n",
       "      <th>4</th>\n",
       "      <td>TXN_3160411</td>\n",
       "      <td>Coffee</td>\n",
       "      <td>2</td>\n",
       "      <td>2</td>\n",
       "      <td>4</td>\n",
       "      <td>Digital Wallet</td>\n",
       "      <td>In-store</td>\n",
       "      <td>2023-06-11 00:00:00</td>\n",
       "      <td>6.0</td>\n",
       "      <td>2023.0</td>\n",
       "    </tr>\n",
       "  </tbody>\n",
       "</table>\n",
       "</div>"
      ],
      "text/plain": [
       "  Transaction ID    Item Quantity Price Per Unit Total Spent  Payment Method  \\\n",
       "0    TXN_1961373  Coffee        2              2           4     Credit Card   \n",
       "1    TXN_4977031    Cake        4              3          12            Cash   \n",
       "2    TXN_4271903  Cookie        4              1       ERROR     Credit Card   \n",
       "3    TXN_7034554   Salad        2              5          10         UNKNOWN   \n",
       "4    TXN_3160411  Coffee        2              2           4  Digital Wallet   \n",
       "\n",
       "   Location     Transaction Date  Month of Transaction   Year of Transaction  \n",
       "0  Takeaway  2023-09-08 00:00:00                    9.0               2023.0  \n",
       "1  In-store  2023-05-16 00:00:00                    5.0               2023.0  \n",
       "2  In-store  2023-07-19 00:00:00                    7.0               2023.0  \n",
       "3   UNKNOWN  2023-04-27 00:00:00                    4.0               2023.0  \n",
       "4  In-store  2023-06-11 00:00:00                    6.0               2023.0  "
      ]
     },
     "execution_count": 19,
     "metadata": {},
     "output_type": "execute_result"
    }
   ],
   "source": [
    "df.head()    #Showing  first few rows"
   ]
  },
  {
   "cell_type": "code",
   "execution_count": 20,
   "id": "b5a0307c-fdf8-476a-8432-37db5cb80e04",
   "metadata": {},
   "outputs": [
    {
     "data": {
      "text/plain": [
       "(10000, 10)"
      ]
     },
     "execution_count": 20,
     "metadata": {},
     "output_type": "execute_result"
    }
   ],
   "source": [
    "df.shape "
   ]
  },
  {
   "cell_type": "code",
   "execution_count": 21,
   "id": "d70752af-9bc5-4175-a37a-1155d88d3f85",
   "metadata": {},
   "outputs": [
    {
     "data": {
      "text/plain": [
       "Transaction ID            object\n",
       "Item                      object\n",
       "Quantity                  object\n",
       "Price Per Unit            object\n",
       "Total Spent               object\n",
       "Payment Method            object\n",
       "Location                  object\n",
       "Transaction Date          object\n",
       "Month of Transaction     float64\n",
       "Year of Transaction      float64\n",
       "dtype: object"
      ]
     },
     "execution_count": 21,
     "metadata": {},
     "output_type": "execute_result"
    }
   ],
   "source": [
    "df.dtypes     # Checking for data types of features"
   ]
  },
  {
   "cell_type": "code",
   "execution_count": 22,
   "id": "39999808-3fca-410c-919c-691031b5cb91",
   "metadata": {},
   "outputs": [
    {
     "data": {
      "text/plain": [
       "Transaction ID              0\n",
       "Item                      333\n",
       "Quantity                  138\n",
       "Price Per Unit            179\n",
       "Total Spent               173\n",
       "Payment Method           2579\n",
       "Location                 3265\n",
       "Transaction Date          159\n",
       "Month of Transaction      301\n",
       "Year of Transaction       303\n",
       "dtype: int64"
      ]
     },
     "execution_count": 22,
     "metadata": {},
     "output_type": "execute_result"
    }
   ],
   "source": [
    "df.isnull().sum()     # checking for Null Values"
   ]
  },
  {
   "cell_type": "code",
   "execution_count": 23,
   "id": "61ce2ce6-9359-4f5a-98e4-9c0e0cfa953a",
   "metadata": {},
   "outputs": [],
   "source": [
    "df.drop(['Payment Method','Location'], axis = 1, inplace = True)       # drop column  "
   ]
  },
  {
   "cell_type": "code",
   "execution_count": 24,
   "id": "1f573d1c-f7f5-4208-b5f5-1c762a0e123e",
   "metadata": {},
   "outputs": [
    {
     "data": {
      "text/html": [
       "<div>\n",
       "<style scoped>\n",
       "    .dataframe tbody tr th:only-of-type {\n",
       "        vertical-align: middle;\n",
       "    }\n",
       "\n",
       "    .dataframe tbody tr th {\n",
       "        vertical-align: top;\n",
       "    }\n",
       "\n",
       "    .dataframe thead th {\n",
       "        text-align: right;\n",
       "    }\n",
       "</style>\n",
       "<table border=\"1\" class=\"dataframe\">\n",
       "  <thead>\n",
       "    <tr style=\"text-align: right;\">\n",
       "      <th></th>\n",
       "      <th>Transaction ID</th>\n",
       "      <th>Item</th>\n",
       "      <th>Quantity</th>\n",
       "      <th>Price Per Unit</th>\n",
       "      <th>Total Spent</th>\n",
       "      <th>Transaction Date</th>\n",
       "      <th>Month of Transaction</th>\n",
       "      <th>Year of Transaction</th>\n",
       "    </tr>\n",
       "  </thead>\n",
       "  <tbody>\n",
       "    <tr>\n",
       "      <th>0</th>\n",
       "      <td>TXN_1961373</td>\n",
       "      <td>Coffee</td>\n",
       "      <td>2</td>\n",
       "      <td>2</td>\n",
       "      <td>4</td>\n",
       "      <td>2023-09-08 00:00:00</td>\n",
       "      <td>9.0</td>\n",
       "      <td>2023.0</td>\n",
       "    </tr>\n",
       "    <tr>\n",
       "      <th>1</th>\n",
       "      <td>TXN_4977031</td>\n",
       "      <td>Cake</td>\n",
       "      <td>4</td>\n",
       "      <td>3</td>\n",
       "      <td>12</td>\n",
       "      <td>2023-05-16 00:00:00</td>\n",
       "      <td>5.0</td>\n",
       "      <td>2023.0</td>\n",
       "    </tr>\n",
       "    <tr>\n",
       "      <th>2</th>\n",
       "      <td>TXN_4271903</td>\n",
       "      <td>Cookie</td>\n",
       "      <td>4</td>\n",
       "      <td>1</td>\n",
       "      <td>ERROR</td>\n",
       "      <td>2023-07-19 00:00:00</td>\n",
       "      <td>7.0</td>\n",
       "      <td>2023.0</td>\n",
       "    </tr>\n",
       "    <tr>\n",
       "      <th>3</th>\n",
       "      <td>TXN_7034554</td>\n",
       "      <td>Salad</td>\n",
       "      <td>2</td>\n",
       "      <td>5</td>\n",
       "      <td>10</td>\n",
       "      <td>2023-04-27 00:00:00</td>\n",
       "      <td>4.0</td>\n",
       "      <td>2023.0</td>\n",
       "    </tr>\n",
       "    <tr>\n",
       "      <th>4</th>\n",
       "      <td>TXN_3160411</td>\n",
       "      <td>Coffee</td>\n",
       "      <td>2</td>\n",
       "      <td>2</td>\n",
       "      <td>4</td>\n",
       "      <td>2023-06-11 00:00:00</td>\n",
       "      <td>6.0</td>\n",
       "      <td>2023.0</td>\n",
       "    </tr>\n",
       "  </tbody>\n",
       "</table>\n",
       "</div>"
      ],
      "text/plain": [
       "  Transaction ID    Item Quantity Price Per Unit Total Spent  \\\n",
       "0    TXN_1961373  Coffee        2              2           4   \n",
       "1    TXN_4977031    Cake        4              3          12   \n",
       "2    TXN_4271903  Cookie        4              1       ERROR   \n",
       "3    TXN_7034554   Salad        2              5          10   \n",
       "4    TXN_3160411  Coffee        2              2           4   \n",
       "\n",
       "      Transaction Date  Month of Transaction   Year of Transaction  \n",
       "0  2023-09-08 00:00:00                    9.0               2023.0  \n",
       "1  2023-05-16 00:00:00                    5.0               2023.0  \n",
       "2  2023-07-19 00:00:00                    7.0               2023.0  \n",
       "3  2023-04-27 00:00:00                    4.0               2023.0  \n",
       "4  2023-06-11 00:00:00                    6.0               2023.0  "
      ]
     },
     "execution_count": 24,
     "metadata": {},
     "output_type": "execute_result"
    }
   ],
   "source": [
    "df.head()"
   ]
  },
  {
   "cell_type": "code",
   "execution_count": 27,
   "id": "49e38f93-3b55-488d-9905-ce464033c49f",
   "metadata": {},
   "outputs": [
    {
     "data": {
      "text/plain": [
       "0    Juice\n",
       "Name: Item, dtype: object"
      ]
     },
     "execution_count": 27,
     "metadata": {},
     "output_type": "execute_result"
    }
   ],
   "source": [
    "df['Item'].mode()"
   ]
  },
  {
   "cell_type": "code",
   "execution_count": null,
   "id": "48ab1a37-4a92-42cc-91a5-cde589b612ff",
   "metadata": {},
   "outputs": [],
   "source": [
    "# imputing column with mode value"
   ]
  },
  {
   "cell_type": "code",
   "execution_count": 29,
   "id": "1819680b-84be-45b1-a223-4602fd2320ea",
   "metadata": {},
   "outputs": [],
   "source": [
    "df['Item'] = df['Item'].fillna(df['Item'].mode()[0])        "
   ]
  },
  {
   "cell_type": "code",
   "execution_count": 30,
   "id": "33507fa8-e790-412e-8228-2c2a66e84c7d",
   "metadata": {},
   "outputs": [],
   "source": [
    "df[\"Quantity\"] = df['Quantity'].fillna(df[\"Quantity\"].mode()[0])"
   ]
  },
  {
   "cell_type": "code",
   "execution_count": 31,
   "id": "e0901baa-c0a0-4b75-b7e8-e8218e71aee2",
   "metadata": {},
   "outputs": [],
   "source": [
    "df[\"Price Per Unit\"] = df['Price Per Unit'].fillna(df[\"Price Per Unit\"].mode()[0])"
   ]
  },
  {
   "cell_type": "code",
   "execution_count": 32,
   "id": "6d32eb74-3c7c-4139-bef4-fbb502aeb1a1",
   "metadata": {},
   "outputs": [],
   "source": [
    "df[\"Total Spent\"] = df['Total Spent'].fillna(df[\"Total Spent\"].mode()[0])"
   ]
  },
  {
   "cell_type": "code",
   "execution_count": 33,
   "id": "84a4d049-eae2-4955-99dc-f9df3f59dc54",
   "metadata": {},
   "outputs": [],
   "source": [
    "df[\"Transaction Date\"] = df['Transaction Date'].fillna(df[\"Transaction Date\"].mode()[0])"
   ]
  },
  {
   "cell_type": "code",
   "execution_count": 34,
   "id": "0504bab1-c86e-4d97-bd2a-54d255ae9a13",
   "metadata": {},
   "outputs": [
    {
     "data": {
      "text/plain": [
       "Transaction ID             0\n",
       "Item                       0\n",
       "Quantity                   0\n",
       "Price Per Unit             0\n",
       "Total Spent                0\n",
       "Transaction Date           0\n",
       "Month of Transaction     301\n",
       "Year of Transaction      303\n",
       "dtype: int64"
      ]
     },
     "execution_count": 34,
     "metadata": {},
     "output_type": "execute_result"
    }
   ],
   "source": [
    "df.isnull().sum()"
   ]
  },
  {
   "cell_type": "code",
   "execution_count": 35,
   "id": "0aeca681-c1b9-402f-9908-1fb672ca6d68",
   "metadata": {},
   "outputs": [
    {
     "data": {
      "text/html": [
       "<div>\n",
       "<style scoped>\n",
       "    .dataframe tbody tr th:only-of-type {\n",
       "        vertical-align: middle;\n",
       "    }\n",
       "\n",
       "    .dataframe tbody tr th {\n",
       "        vertical-align: top;\n",
       "    }\n",
       "\n",
       "    .dataframe thead th {\n",
       "        text-align: right;\n",
       "    }\n",
       "</style>\n",
       "<table border=\"1\" class=\"dataframe\">\n",
       "  <thead>\n",
       "    <tr style=\"text-align: right;\">\n",
       "      <th></th>\n",
       "      <th>Transaction ID</th>\n",
       "      <th>Item</th>\n",
       "      <th>Quantity</th>\n",
       "      <th>Price Per Unit</th>\n",
       "      <th>Total Spent</th>\n",
       "      <th>Transaction Date</th>\n",
       "      <th>Month of Transaction</th>\n",
       "      <th>Year of Transaction</th>\n",
       "    </tr>\n",
       "  </thead>\n",
       "  <tbody>\n",
       "    <tr>\n",
       "      <th>0</th>\n",
       "      <td>TXN_1961373</td>\n",
       "      <td>Coffee</td>\n",
       "      <td>2</td>\n",
       "      <td>2</td>\n",
       "      <td>4</td>\n",
       "      <td>2023-09-08 00:00:00</td>\n",
       "      <td>9.0</td>\n",
       "      <td>2023.0</td>\n",
       "    </tr>\n",
       "    <tr>\n",
       "      <th>1</th>\n",
       "      <td>TXN_4977031</td>\n",
       "      <td>Cake</td>\n",
       "      <td>4</td>\n",
       "      <td>3</td>\n",
       "      <td>12</td>\n",
       "      <td>2023-05-16 00:00:00</td>\n",
       "      <td>5.0</td>\n",
       "      <td>2023.0</td>\n",
       "    </tr>\n",
       "    <tr>\n",
       "      <th>2</th>\n",
       "      <td>TXN_4271903</td>\n",
       "      <td>Cookie</td>\n",
       "      <td>4</td>\n",
       "      <td>1</td>\n",
       "      <td>ERROR</td>\n",
       "      <td>2023-07-19 00:00:00</td>\n",
       "      <td>7.0</td>\n",
       "      <td>2023.0</td>\n",
       "    </tr>\n",
       "    <tr>\n",
       "      <th>3</th>\n",
       "      <td>TXN_7034554</td>\n",
       "      <td>Salad</td>\n",
       "      <td>2</td>\n",
       "      <td>5</td>\n",
       "      <td>10</td>\n",
       "      <td>2023-04-27 00:00:00</td>\n",
       "      <td>4.0</td>\n",
       "      <td>2023.0</td>\n",
       "    </tr>\n",
       "    <tr>\n",
       "      <th>4</th>\n",
       "      <td>TXN_3160411</td>\n",
       "      <td>Coffee</td>\n",
       "      <td>2</td>\n",
       "      <td>2</td>\n",
       "      <td>4</td>\n",
       "      <td>2023-06-11 00:00:00</td>\n",
       "      <td>6.0</td>\n",
       "      <td>2023.0</td>\n",
       "    </tr>\n",
       "    <tr>\n",
       "      <th>5</th>\n",
       "      <td>TXN_2602893</td>\n",
       "      <td>Smoothie</td>\n",
       "      <td>5</td>\n",
       "      <td>4</td>\n",
       "      <td>20</td>\n",
       "      <td>2023-03-31 00:00:00</td>\n",
       "      <td>3.0</td>\n",
       "      <td>2023.0</td>\n",
       "    </tr>\n",
       "    <tr>\n",
       "      <th>6</th>\n",
       "      <td>TXN_4433211</td>\n",
       "      <td>UNKNOWN</td>\n",
       "      <td>3</td>\n",
       "      <td>3</td>\n",
       "      <td>9</td>\n",
       "      <td>2023-10-06 00:00:00</td>\n",
       "      <td>10.0</td>\n",
       "      <td>2023.0</td>\n",
       "    </tr>\n",
       "    <tr>\n",
       "      <th>7</th>\n",
       "      <td>TXN_6699534</td>\n",
       "      <td>Sandwich</td>\n",
       "      <td>4</td>\n",
       "      <td>4</td>\n",
       "      <td>16</td>\n",
       "      <td>2023-10-28 00:00:00</td>\n",
       "      <td>10.0</td>\n",
       "      <td>2023.0</td>\n",
       "    </tr>\n",
       "    <tr>\n",
       "      <th>8</th>\n",
       "      <td>TXN_4717867</td>\n",
       "      <td>Juice</td>\n",
       "      <td>5</td>\n",
       "      <td>3</td>\n",
       "      <td>15</td>\n",
       "      <td>2023-07-28 00:00:00</td>\n",
       "      <td>7.0</td>\n",
       "      <td>2023.0</td>\n",
       "    </tr>\n",
       "    <tr>\n",
       "      <th>9</th>\n",
       "      <td>TXN_2064365</td>\n",
       "      <td>Sandwich</td>\n",
       "      <td>5</td>\n",
       "      <td>4</td>\n",
       "      <td>20</td>\n",
       "      <td>2023-12-31 00:00:00</td>\n",
       "      <td>12.0</td>\n",
       "      <td>2023.0</td>\n",
       "    </tr>\n",
       "  </tbody>\n",
       "</table>\n",
       "</div>"
      ],
      "text/plain": [
       "  Transaction ID      Item Quantity Price Per Unit Total Spent  \\\n",
       "0    TXN_1961373    Coffee        2              2           4   \n",
       "1    TXN_4977031      Cake        4              3          12   \n",
       "2    TXN_4271903    Cookie        4              1       ERROR   \n",
       "3    TXN_7034554     Salad        2              5          10   \n",
       "4    TXN_3160411    Coffee        2              2           4   \n",
       "5    TXN_2602893  Smoothie        5              4          20   \n",
       "6    TXN_4433211   UNKNOWN        3              3           9   \n",
       "7    TXN_6699534  Sandwich        4              4          16   \n",
       "8    TXN_4717867     Juice        5              3          15   \n",
       "9    TXN_2064365  Sandwich        5              4          20   \n",
       "\n",
       "      Transaction Date  Month of Transaction   Year of Transaction  \n",
       "0  2023-09-08 00:00:00                    9.0               2023.0  \n",
       "1  2023-05-16 00:00:00                    5.0               2023.0  \n",
       "2  2023-07-19 00:00:00                    7.0               2023.0  \n",
       "3  2023-04-27 00:00:00                    4.0               2023.0  \n",
       "4  2023-06-11 00:00:00                    6.0               2023.0  \n",
       "5  2023-03-31 00:00:00                    3.0               2023.0  \n",
       "6  2023-10-06 00:00:00                   10.0               2023.0  \n",
       "7  2023-10-28 00:00:00                   10.0               2023.0  \n",
       "8  2023-07-28 00:00:00                    7.0               2023.0  \n",
       "9  2023-12-31 00:00:00                   12.0               2023.0  "
      ]
     },
     "execution_count": 35,
     "metadata": {},
     "output_type": "execute_result"
    }
   ],
   "source": [
    "df.head(10)"
   ]
  },
  {
   "cell_type": "code",
   "execution_count": null,
   "id": "dfecdbfb-de4a-48b1-9f0a-39436414e395",
   "metadata": {},
   "outputs": [],
   "source": []
  }
 ],
 "metadata": {
  "kernelspec": {
   "display_name": "Python 3 (ipykernel)",
   "language": "python",
   "name": "python3"
  },
  "language_info": {
   "codemirror_mode": {
    "name": "ipython",
    "version": 3
   },
   "file_extension": ".py",
   "mimetype": "text/x-python",
   "name": "python",
   "nbconvert_exporter": "python",
   "pygments_lexer": "ipython3",
   "version": "3.12.7"
  }
 },
 "nbformat": 4,
 "nbformat_minor": 5
}
